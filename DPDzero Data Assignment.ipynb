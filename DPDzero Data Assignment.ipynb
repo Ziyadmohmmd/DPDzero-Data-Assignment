{
 "cells": [
  {
   "cell_type": "markdown",
   "id": "b5c20e89",
   "metadata": {},
   "source": [
    "# DPDzero Data Assignment"
   ]
  },
  {
   "cell_type": "code",
   "execution_count": 140,
   "id": "ad1000fb",
   "metadata": {},
   "outputs": [],
   "source": [
    "import pandas as pd \n",
    "import numpy as np\n",
    "import matplotlib.pyplot as plt"
   ]
  },
  {
   "cell_type": "code",
   "execution_count": 141,
   "id": "ecd1675d",
   "metadata": {},
   "outputs": [
    {
     "data": {
      "text/html": [
       "<div>\n",
       "<style scoped>\n",
       "    .dataframe tbody tr th:only-of-type {\n",
       "        vertical-align: middle;\n",
       "    }\n",
       "\n",
       "    .dataframe tbody tr th {\n",
       "        vertical-align: top;\n",
       "    }\n",
       "\n",
       "    .dataframe thead th {\n",
       "        text-align: right;\n",
       "    }\n",
       "</style>\n",
       "<table border=\"1\" class=\"dataframe\">\n",
       "  <thead>\n",
       "    <tr style=\"text-align: right;\">\n",
       "      <th></th>\n",
       "      <th>Loan Number</th>\n",
       "      <th>Due Date</th>\n",
       "      <th>State</th>\n",
       "      <th>DOB</th>\n",
       "      <th>Loan Amount</th>\n",
       "      <th>Age</th>\n",
       "    </tr>\n",
       "  </thead>\n",
       "  <tbody>\n",
       "    <tr>\n",
       "      <th>0</th>\n",
       "      <td>1003431</td>\n",
       "      <td>31-10-2022</td>\n",
       "      <td>KARNATAKA</td>\n",
       "      <td>1987.0</td>\n",
       "      <td>240000.0</td>\n",
       "      <td>36</td>\n",
       "    </tr>\n",
       "    <tr>\n",
       "      <th>1</th>\n",
       "      <td>1004356</td>\n",
       "      <td>31-10-2022</td>\n",
       "      <td>MAHARASHTRA</td>\n",
       "      <td>1994.0</td>\n",
       "      <td>56000.0</td>\n",
       "      <td>28</td>\n",
       "    </tr>\n",
       "    <tr>\n",
       "      <th>2</th>\n",
       "      <td>1004464</td>\n",
       "      <td>01-11-2022</td>\n",
       "      <td>UTTAR PRADESH</td>\n",
       "      <td>1996.0</td>\n",
       "      <td>50000.0</td>\n",
       "      <td>26</td>\n",
       "    </tr>\n",
       "    <tr>\n",
       "      <th>3</th>\n",
       "      <td>1004626</td>\n",
       "      <td>01-11-2022</td>\n",
       "      <td>KERALA</td>\n",
       "      <td>1995.0</td>\n",
       "      <td>63000.0</td>\n",
       "      <td>27</td>\n",
       "    </tr>\n",
       "    <tr>\n",
       "      <th>4</th>\n",
       "      <td>1005011</td>\n",
       "      <td>01-11-2022</td>\n",
       "      <td>MAHARASHTRA</td>\n",
       "      <td>1994.0</td>\n",
       "      <td>50000.0</td>\n",
       "      <td>28</td>\n",
       "    </tr>\n",
       "  </tbody>\n",
       "</table>\n",
       "</div>"
      ],
      "text/plain": [
       "   Loan Number    Due Date          State     DOB  Loan Amount  Age\n",
       "0      1003431  31-10-2022      KARNATAKA  1987.0     240000.0   36\n",
       "1      1004356  31-10-2022    MAHARASHTRA  1994.0      56000.0   28\n",
       "2      1004464  01-11-2022  UTTAR PRADESH  1996.0      50000.0   26\n",
       "3      1004626  01-11-2022         KERALA  1995.0      63000.0   27\n",
       "4      1005011  01-11-2022    MAHARASHTRA  1994.0      50000.0   28"
      ]
     },
     "execution_count": 141,
     "metadata": {},
     "output_type": "execute_result"
    }
   ],
   "source": [
    "portfolio_data = pd.read_csv('Portfolio_data.csv')\n",
    "portfolio_data.head()"
   ]
  },
  {
   "cell_type": "code",
   "execution_count": 142,
   "id": "12a55fcc",
   "metadata": {},
   "outputs": [
    {
     "data": {
      "text/html": [
       "<div>\n",
       "<style scoped>\n",
       "    .dataframe tbody tr th:only-of-type {\n",
       "        vertical-align: middle;\n",
       "    }\n",
       "\n",
       "    .dataframe tbody tr th {\n",
       "        vertical-align: top;\n",
       "    }\n",
       "\n",
       "    .dataframe thead th {\n",
       "        text-align: right;\n",
       "    }\n",
       "</style>\n",
       "<table border=\"1\" class=\"dataframe\">\n",
       "  <thead>\n",
       "    <tr style=\"text-align: right;\">\n",
       "      <th></th>\n",
       "      <th>Loan Number</th>\n",
       "      <th>Campaign ID</th>\n",
       "      <th>Communication Operator Message ID</th>\n",
       "      <th>Call time</th>\n",
       "      <th>Status</th>\n",
       "      <th>Date</th>\n",
       "    </tr>\n",
       "  </thead>\n",
       "  <tbody>\n",
       "    <tr>\n",
       "      <th>0</th>\n",
       "      <td>16748071234</td>\n",
       "      <td>161584404</td>\n",
       "      <td>21a1f7b1ce4d23d558e300626d5016c2</td>\n",
       "      <td>2022-12-02T02:59:40.973Z</td>\n",
       "      <td>completed</td>\n",
       "      <td>02-12-2022</td>\n",
       "    </tr>\n",
       "    <tr>\n",
       "      <th>1</th>\n",
       "      <td>16734601234</td>\n",
       "      <td>161584404</td>\n",
       "      <td>edecb5cd796826ef8bcde2f4814f16c2</td>\n",
       "      <td>2022-12-02T03:57:51.335Z</td>\n",
       "      <td>completed</td>\n",
       "      <td>02-12-2022</td>\n",
       "    </tr>\n",
       "    <tr>\n",
       "      <th>2</th>\n",
       "      <td>1631580</td>\n",
       "      <td>161307935</td>\n",
       "      <td>6a79ed24fa727ae9341f53a9df8816c2</td>\n",
       "      <td>2022-12-02T04:34:26.950Z</td>\n",
       "      <td>completed</td>\n",
       "      <td>02-12-2022</td>\n",
       "    </tr>\n",
       "    <tr>\n",
       "      <th>3</th>\n",
       "      <td>1631580</td>\n",
       "      <td>161307935</td>\n",
       "      <td>ce45ac657c26d5d10e6d1eb4aacc16c2</td>\n",
       "      <td>2022-12-02T04:34:57.213Z</td>\n",
       "      <td>completed</td>\n",
       "      <td>02-12-2022</td>\n",
       "    </tr>\n",
       "    <tr>\n",
       "      <th>4</th>\n",
       "      <td>1631580</td>\n",
       "      <td>161307935</td>\n",
       "      <td>6c864d7097f2df3eed4900ea892816c2</td>\n",
       "      <td>2022-12-02T04:36:21.594Z</td>\n",
       "      <td>completed</td>\n",
       "      <td>02-12-2022</td>\n",
       "    </tr>\n",
       "  </tbody>\n",
       "</table>\n",
       "</div>"
      ],
      "text/plain": [
       "   Loan Number  Campaign ID Communication Operator Message ID  \\\n",
       "0  16748071234    161584404  21a1f7b1ce4d23d558e300626d5016c2   \n",
       "1  16734601234    161584404  edecb5cd796826ef8bcde2f4814f16c2   \n",
       "2      1631580    161307935  6a79ed24fa727ae9341f53a9df8816c2   \n",
       "3      1631580    161307935  ce45ac657c26d5d10e6d1eb4aacc16c2   \n",
       "4      1631580    161307935  6c864d7097f2df3eed4900ea892816c2   \n",
       "\n",
       "                  Call time     Status        Date  \n",
       "0  2022-12-02T02:59:40.973Z  completed  02-12-2022  \n",
       "1  2022-12-02T03:57:51.335Z  completed  02-12-2022  \n",
       "2  2022-12-02T04:34:26.950Z  completed  02-12-2022  \n",
       "3  2022-12-02T04:34:57.213Z  completed  02-12-2022  \n",
       "4  2022-12-02T04:36:21.594Z  completed  02-12-2022  "
      ]
     },
     "execution_count": 142,
     "metadata": {},
     "output_type": "execute_result"
    }
   ],
   "source": [
    "communication_data = pd.read_csv('CommunicationHistory.csv')\n",
    "communication_data.head()"
   ]
  },
  {
   "cell_type": "code",
   "execution_count": 143,
   "id": "287991a9",
   "metadata": {},
   "outputs": [
    {
     "data": {
      "text/plain": [
       "Loan Number    0\n",
       "Due Date       0\n",
       "State          0\n",
       "DOB            1\n",
       "Loan Amount    0\n",
       "Age            0\n",
       "dtype: int64"
      ]
     },
     "execution_count": 143,
     "metadata": {},
     "output_type": "execute_result"
    }
   ],
   "source": [
    "#checking missing values in the dataset\n",
    "portfolio_data.isnull().sum()"
   ]
  },
  {
   "cell_type": "code",
   "execution_count": 144,
   "id": "d72263ca",
   "metadata": {},
   "outputs": [
    {
     "data": {
      "text/plain": [
       "Loan Number                           0\n",
       "Campaign ID                           0\n",
       "Communication Operator Message ID    10\n",
       "Call time                             0\n",
       "Status                                0\n",
       "Date                                  0\n",
       "dtype: int64"
      ]
     },
     "execution_count": 144,
     "metadata": {},
     "output_type": "execute_result"
    }
   ],
   "source": [
    "communication_data.isnull().sum()"
   ]
  },
  {
   "cell_type": "code",
   "execution_count": 145,
   "id": "793d90c6",
   "metadata": {},
   "outputs": [
    {
     "data": {
      "text/html": [
       "<div>\n",
       "<style scoped>\n",
       "    .dataframe tbody tr th:only-of-type {\n",
       "        vertical-align: middle;\n",
       "    }\n",
       "\n",
       "    .dataframe tbody tr th {\n",
       "        vertical-align: top;\n",
       "    }\n",
       "\n",
       "    .dataframe thead th {\n",
       "        text-align: right;\n",
       "    }\n",
       "</style>\n",
       "<table border=\"1\" class=\"dataframe\">\n",
       "  <thead>\n",
       "    <tr style=\"text-align: right;\">\n",
       "      <th></th>\n",
       "      <th>Loan Number</th>\n",
       "      <th>DOB</th>\n",
       "      <th>Loan Amount</th>\n",
       "      <th>Age</th>\n",
       "    </tr>\n",
       "  </thead>\n",
       "  <tbody>\n",
       "    <tr>\n",
       "      <th>count</th>\n",
       "      <td>1.596200e+04</td>\n",
       "      <td>15961.000000</td>\n",
       "      <td>15962.000000</td>\n",
       "      <td>15962.000000</td>\n",
       "    </tr>\n",
       "    <tr>\n",
       "      <th>mean</th>\n",
       "      <td>1.689427e+06</td>\n",
       "      <td>1993.094104</td>\n",
       "      <td>7362.359952</td>\n",
       "      <td>29.083699</td>\n",
       "    </tr>\n",
       "    <tr>\n",
       "      <th>std</th>\n",
       "      <td>1.211048e+05</td>\n",
       "      <td>6.760672</td>\n",
       "      <td>6398.129954</td>\n",
       "      <td>6.807972</td>\n",
       "    </tr>\n",
       "    <tr>\n",
       "      <th>min</th>\n",
       "      <td>8.727770e+05</td>\n",
       "      <td>1943.000000</td>\n",
       "      <td>3000.000000</td>\n",
       "      <td>18.000000</td>\n",
       "    </tr>\n",
       "    <tr>\n",
       "      <th>25%</th>\n",
       "      <td>1.640865e+06</td>\n",
       "      <td>1990.000000</td>\n",
       "      <td>5000.000000</td>\n",
       "      <td>24.000000</td>\n",
       "    </tr>\n",
       "    <tr>\n",
       "      <th>50%</th>\n",
       "      <td>1.714308e+06</td>\n",
       "      <td>1995.000000</td>\n",
       "      <td>5017.000000</td>\n",
       "      <td>28.000000</td>\n",
       "    </tr>\n",
       "    <tr>\n",
       "      <th>75%</th>\n",
       "      <td>1.778172e+06</td>\n",
       "      <td>1998.000000</td>\n",
       "      <td>7000.000000</td>\n",
       "      <td>32.000000</td>\n",
       "    </tr>\n",
       "    <tr>\n",
       "      <th>max</th>\n",
       "      <td>1.881403e+06</td>\n",
       "      <td>2004.000000</td>\n",
       "      <td>240000.000000</td>\n",
       "      <td>123.000000</td>\n",
       "    </tr>\n",
       "  </tbody>\n",
       "</table>\n",
       "</div>"
      ],
      "text/plain": [
       "        Loan Number           DOB    Loan Amount           Age\n",
       "count  1.596200e+04  15961.000000   15962.000000  15962.000000\n",
       "mean   1.689427e+06   1993.094104    7362.359952     29.083699\n",
       "std    1.211048e+05      6.760672    6398.129954      6.807972\n",
       "min    8.727770e+05   1943.000000    3000.000000     18.000000\n",
       "25%    1.640865e+06   1990.000000    5000.000000     24.000000\n",
       "50%    1.714308e+06   1995.000000    5017.000000     28.000000\n",
       "75%    1.778172e+06   1998.000000    7000.000000     32.000000\n",
       "max    1.881403e+06   2004.000000  240000.000000    123.000000"
      ]
     },
     "execution_count": 145,
     "metadata": {},
     "output_type": "execute_result"
    }
   ],
   "source": [
    "#basic statics\n",
    "portfolio_data.describe()"
   ]
  },
  {
   "cell_type": "code",
   "execution_count": 146,
   "id": "a5cd6315",
   "metadata": {},
   "outputs": [
    {
     "data": {
      "text/html": [
       "<div>\n",
       "<style scoped>\n",
       "    .dataframe tbody tr th:only-of-type {\n",
       "        vertical-align: middle;\n",
       "    }\n",
       "\n",
       "    .dataframe tbody tr th {\n",
       "        vertical-align: top;\n",
       "    }\n",
       "\n",
       "    .dataframe thead th {\n",
       "        text-align: right;\n",
       "    }\n",
       "</style>\n",
       "<table border=\"1\" class=\"dataframe\">\n",
       "  <thead>\n",
       "    <tr style=\"text-align: right;\">\n",
       "      <th></th>\n",
       "      <th>Loan Number</th>\n",
       "      <th>Campaign ID</th>\n",
       "    </tr>\n",
       "  </thead>\n",
       "  <tbody>\n",
       "    <tr>\n",
       "      <th>count</th>\n",
       "      <td>7.060700e+04</td>\n",
       "      <td>7.060700e+04</td>\n",
       "    </tr>\n",
       "    <tr>\n",
       "      <th>mean</th>\n",
       "      <td>2.387413e+06</td>\n",
       "      <td>1.681513e+08</td>\n",
       "    </tr>\n",
       "    <tr>\n",
       "      <th>std</th>\n",
       "      <td>1.077388e+08</td>\n",
       "      <td>2.845385e+06</td>\n",
       "    </tr>\n",
       "    <tr>\n",
       "      <th>min</th>\n",
       "      <td>8.727770e+05</td>\n",
       "      <td>1.354742e+08</td>\n",
       "    </tr>\n",
       "    <tr>\n",
       "      <th>25%</th>\n",
       "      <td>1.635118e+06</td>\n",
       "      <td>1.654490e+08</td>\n",
       "    </tr>\n",
       "    <tr>\n",
       "      <th>50%</th>\n",
       "      <td>1.705979e+06</td>\n",
       "      <td>1.678209e+08</td>\n",
       "    </tr>\n",
       "    <tr>\n",
       "      <th>75%</th>\n",
       "      <td>1.778082e+06</td>\n",
       "      <td>1.707402e+08</td>\n",
       "    </tr>\n",
       "    <tr>\n",
       "      <th>max</th>\n",
       "      <td>1.674807e+10</td>\n",
       "      <td>1.735366e+08</td>\n",
       "    </tr>\n",
       "  </tbody>\n",
       "</table>\n",
       "</div>"
      ],
      "text/plain": [
       "        Loan Number   Campaign ID\n",
       "count  7.060700e+04  7.060700e+04\n",
       "mean   2.387413e+06  1.681513e+08\n",
       "std    1.077388e+08  2.845385e+06\n",
       "min    8.727770e+05  1.354742e+08\n",
       "25%    1.635118e+06  1.654490e+08\n",
       "50%    1.705979e+06  1.678209e+08\n",
       "75%    1.778082e+06  1.707402e+08\n",
       "max    1.674807e+10  1.735366e+08"
      ]
     },
     "execution_count": 146,
     "metadata": {},
     "output_type": "execute_result"
    }
   ],
   "source": [
    "communication_data.describe()"
   ]
  },
  {
   "cell_type": "code",
   "execution_count": 147,
   "id": "eb5508b3",
   "metadata": {},
   "outputs": [
    {
     "data": {
      "text/plain": [
       "Loan Number      int64\n",
       "Due Date        object\n",
       "State           object\n",
       "DOB            float64\n",
       "Loan Amount    float64\n",
       "Age              int64\n",
       "dtype: object"
      ]
     },
     "execution_count": 147,
     "metadata": {},
     "output_type": "execute_result"
    }
   ],
   "source": [
    "portfolio_data.dtypes"
   ]
  },
  {
   "cell_type": "code",
   "execution_count": 148,
   "id": "ea375e0c",
   "metadata": {},
   "outputs": [
    {
     "data": {
      "text/plain": [
       "Loan Number                           int64\n",
       "Campaign ID                           int64\n",
       "Communication Operator Message ID    object\n",
       "Call time                            object\n",
       "Status                               object\n",
       "Date                                 object\n",
       "dtype: object"
      ]
     },
     "execution_count": 148,
     "metadata": {},
     "output_type": "execute_result"
    }
   ],
   "source": [
    "communication_data.dtypes"
   ]
  },
  {
   "cell_type": "markdown",
   "id": "6f4e9773",
   "metadata": {},
   "source": [
    "1.Distribution of loans across different states"
   ]
  },
  {
   "cell_type": "code",
   "execution_count": 149,
   "id": "67a39fc6",
   "metadata": {
    "scrolled": true
   },
   "outputs": [
    {
     "data": {
      "text/plain": [
       "State\n",
       "MAHARASHTRA                  2538\n",
       "KARNATAKA                    1892\n",
       "TAMIL NADU                   1471\n",
       "TELANGANA                    1306\n",
       "UTTAR PRADESH                1198\n",
       "ANDHRA PRADESH               1161\n",
       "GUJARAT                       984\n",
       "RAJASTHAN                     707\n",
       "DELHI                         673\n",
       "WEST BENGAL                   622\n",
       "MADHYA PRADESH                592\n",
       "HARYANA                       493\n",
       "ODISHA                        415\n",
       "BIHAR                         408\n",
       "KERALA                        361\n",
       "PUNJAB                        244\n",
       "ASSAM                         187\n",
       "CHATTISGARH                   160\n",
       "JHARKHAND                     146\n",
       "UTTARAKHAND                   103\n",
       "HIMACHAL PRADESH               61\n",
       "JAMMU & KASHMIR                51\n",
       "Chandigarh                     31\n",
       "Pondicherry                    31\n",
       "Goa                            26\n",
       "TRIPURA                        21\n",
       "Meghalaya                      16\n",
       "Nagaland                       13\n",
       "Manipur                        12\n",
       "Maharashtra                     9\n",
       "Sikkim                          9\n",
       "Arunachal Pradesh               8\n",
       "DAMAN & DIU                     4\n",
       "DADRA & NAGAR HAVELI            2\n",
       "ANDAMAN & NICOBAR ISLANDS       2\n",
       "PONDICHERRY                     1\n",
       "Mizoram                         1\n",
       "Madhya Pradesh                  1\n",
       "Chattisgarh                     1\n",
       "Haryana                         1\n",
       "Name: Loan Number, dtype: int64"
      ]
     },
     "execution_count": 149,
     "metadata": {},
     "output_type": "execute_result"
    }
   ],
   "source": [
    "#we want to group loans by state\n",
    "state_loan_counts = portfolio_data.groupby('State')['Loan Number'].count().sort_values(ascending=False)\n",
    "state_loan_counts"
   ]
  },
  {
   "cell_type": "code",
   "execution_count": 150,
   "id": "0997d4da",
   "metadata": {},
   "outputs": [
    {
     "data": {
      "text/plain": [
       "<AxesSubplot:title={'center':'Distribution of Loans by State'}, xlabel='State'>"
      ]
     },
     "execution_count": 150,
     "metadata": {},
     "output_type": "execute_result"
    },
    {
     "data": {
      "image/png": "[encoded data removed]",
      "text/plain": [
       "<Figure size 432x288 with 1 Axes>"
      ]
     },
     "metadata": {
      "needs_background": "light"
     },
     "output_type": "display_data"
    }
   ],
   "source": [
    "#Visualize loan by state\n",
    "state_loan_counts.plot(kind='bar', title='Distribution of Loans by State')"
   ]
  },
  {
   "cell_type": "markdown",
   "id": "fbdb951d",
   "metadata": {},
   "source": [
    "2.Distribution of loans across different amounts"
   ]
  },
  {
   "cell_type": "code",
   "execution_count": 151,
   "id": "1dfa9b97",
   "metadata": {},
   "outputs": [
    {
     "data": {
      "text/plain": [
       "Loan Amount\n",
       "5000.0      6757\n",
       "7000.0      3474\n",
       "5017.0      1050\n",
       "10000.0      643\n",
       "6000.0       348\n",
       "            ... \n",
       "9150.0         1\n",
       "9162.0         1\n",
       "9180.0         1\n",
       "10060.0        1\n",
       "240000.0       1\n",
       "Name: Loan Number, Length: 304, dtype: int64"
      ]
     },
     "execution_count": 151,
     "metadata": {},
     "output_type": "execute_result"
    }
   ],
   "source": [
    "#group loans by loan amount\n",
    "amount_loan_counts = portfolio_data.groupby('Loan Amount')['Loan Number'].count().sort_values(ascending=False)\n",
    "amount_loan_counts "
   ]
  },
  {
   "cell_type": "code",
   "execution_count": 152,
   "id": "918725eb",
   "metadata": {},
   "outputs": [
    {
     "data": {
      "text/plain": [
       "<AxesSubplot:title={'center':'Distribution of Loans by Amount'}, ylabel='Frequency'>"
      ]
     },
     "execution_count": 152,
     "metadata": {},
     "output_type": "execute_result"
    },
    {
     "data": {
      "image/png": "[encoded data removed]",
      "text/plain": [
       "<Figure size 432x288 with 1 Axes>"
      ]
     },
     "metadata": {
      "needs_background": "light"
     },
     "output_type": "display_data"
    }
   ],
   "source": [
    "# Visulaize loans by loan amount using a histogram\n",
    "amount_loan_counts.plot(kind='hist', title='Distribution of Loans by Amount')"
   ]
  },
  {
   "cell_type": "markdown",
   "id": "657a8bf2",
   "metadata": {},
   "source": [
    "3.Distribution of customers by age"
   ]
  },
  {
   "cell_type": "code",
   "execution_count": 153,
   "id": "1654faf5",
   "metadata": {
    "scrolled": true
   },
   "outputs": [
    {
     "data": {
      "text/plain": [
       "Age\n",
       "24     1208\n",
       "26     1162\n",
       "23     1161\n",
       "25     1120\n",
       "28     1043\n",
       "27     1039\n",
       "22      975\n",
       "29      902\n",
       "30      859\n",
       "31      729\n",
       "32      659\n",
       "33      593\n",
       "21      580\n",
       "34      460\n",
       "35      459\n",
       "36      367\n",
       "20      350\n",
       "37      330\n",
       "38      256\n",
       "39      215\n",
       "40      214\n",
       "19      168\n",
       "42      156\n",
       "41      140\n",
       "43      128\n",
       "44      112\n",
       "45       74\n",
       "47       67\n",
       "46       65\n",
       "48       58\n",
       "49       54\n",
       "52       48\n",
       "50       41\n",
       "18       37\n",
       "53       36\n",
       "51       23\n",
       "54       16\n",
       "55       12\n",
       "56        9\n",
       "59        7\n",
       "57        6\n",
       "58        6\n",
       "62        4\n",
       "60        3\n",
       "63        3\n",
       "64        2\n",
       "71        1\n",
       "79        1\n",
       "61        1\n",
       "70        1\n",
       "68        1\n",
       "123       1\n",
       "Name: State, dtype: int64"
      ]
     },
     "execution_count": 153,
     "metadata": {},
     "output_type": "execute_result"
    }
   ],
   "source": [
    "age_dist = portfolio_data.groupby('Age')['State'].count().sort_values(ascending=False)\n",
    "age_dist"
   ]
  },
  {
   "cell_type": "code",
   "execution_count": 154,
   "id": "0dc519ec",
   "metadata": {
    "scrolled": true
   },
   "outputs": [
    {
     "data": {
      "text/plain": [
       "(25, 35]    7905\n",
       "(18, 25]    5562\n",
       "(35, 45]    1992\n",
       "(45, 55]     420\n",
       "(55, 65]      41\n",
       "(65, 75]       3\n",
       "(75, 85]       1\n",
       "(85, 95]       0\n",
       "Name: Age, dtype: int64"
      ]
     },
     "execution_count": 154,
     "metadata": {},
     "output_type": "execute_result"
    }
   ],
   "source": [
    "# Group the customers by age group\n",
    "age_customer_counts = pd.cut(portfolio_data['Age'], bins=[18, 25, 35, 45, 55, 65, 75, 85, 95]).value_counts()\n",
    "age_customer_counts"
   ]
  },
  {
   "cell_type": "code",
   "execution_count": 155,
   "id": "1fd5fae9",
   "metadata": {},
   "outputs": [
    {
     "data": {
      "text/plain": [
       "<AxesSubplot:title={'center':'Distribution of Customers by Age'}>"
      ]
     },
     "execution_count": 155,
     "metadata": {},
     "output_type": "execute_result"
    },
    {
     "data": {
      "image/png": "[encoded data removed]",
      "text/plain": [
       "<Figure size 432x288 with 1 Axes>"
      ]
     },
     "metadata": {
      "needs_background": "light"
     },
     "output_type": "display_data"
    }
   ],
   "source": [
    "# Visualize customers by age using a bar chart\n",
    "age_customer_counts.plot(kind='bar', title='Distribution of Customers by Age')"
   ]
  },
  {
   "cell_type": "markdown",
   "id": "09f2e6da",
   "metadata": {},
   "source": [
    "4.Distribution of loans by due dates"
   ]
  },
  {
   "cell_type": "code",
   "execution_count": 156,
   "id": "90d0d441",
   "metadata": {},
   "outputs": [
    {
     "data": {
      "text/plain": [
       "Due Date\n",
       "25-11-2022    1080\n",
       "19-11-2022    1077\n",
       "02-11-2022    1000\n",
       "01-11-2022     840\n",
       "04-11-2022     821\n",
       "05-11-2022     807\n",
       "20-11-2022     786\n",
       "06-11-2022     739\n",
       "03-11-2022     730\n",
       "21-11-2022     680\n",
       "14-11-2022     667\n",
       "12-11-2022     580\n",
       "18-11-2022     577\n",
       "15-11-2022     554\n",
       "17-11-2022     534\n",
       "08-11-2022     522\n",
       "07-11-2022     506\n",
       "11-11-2022     504\n",
       "10-11-2022     498\n",
       "16-11-2022     477\n",
       "13-11-2022     472\n",
       "09-11-2022     426\n",
       "22-11-2022     362\n",
       "24-11-2022     350\n",
       "23-11-2022     316\n",
       "26-11-2022      17\n",
       "28-11-2022      15\n",
       "27-11-2022      12\n",
       "29-11-2022      11\n",
       "31-10-2022       2\n",
       "Name: Loan Number, dtype: int64"
      ]
     },
     "execution_count": 156,
     "metadata": {},
     "output_type": "execute_result"
    }
   ],
   "source": [
    "# Group the loans by due date\n",
    "due_date_loan_counts = portfolio_data.groupby('Due Date')['Loan Number'].count().sort_values(ascending=False)\n",
    "due_date_loan_counts"
   ]
  },
  {
   "cell_type": "code",
   "execution_count": 157,
   "id": "3eb6500b",
   "metadata": {},
   "outputs": [
    {
     "data": {
      "text/plain": [
       "<AxesSubplot:title={'center':'Distribution of Loans by Due Date'}, xlabel='Due Date'>"
      ]
     },
     "execution_count": 157,
     "metadata": {},
     "output_type": "execute_result"
    },
    {
     "data": {
      "image/png": "[encoded data removed]",
      "text/plain": [
       "<Figure size 432x288 with 1 Axes>"
      ]
     },
     "metadata": {
      "needs_background": "light"
     },
     "output_type": "display_data"
    }
   ],
   "source": [
    "# Visualize loans by due date using a line chart\n",
    "due_date_loan_counts.plot(kind='bar', title='Distribution of Loans by Due Date')"
   ]
  },
  {
   "cell_type": "markdown",
   "id": "6c1c220d",
   "metadata": {},
   "source": [
    "5. Unique number of customers contacted every day - only completed calls are to be considered - How many unique borrowers did we contact on day 1, day 2 etc."
   ]
  },
  {
   "cell_type": "code",
   "execution_count": 158,
   "id": "ac42693e",
   "metadata": {},
   "outputs": [
    {
     "data": {
      "text/html": [
       "<div>\n",
       "<style scoped>\n",
       "    .dataframe tbody tr th:only-of-type {\n",
       "        vertical-align: middle;\n",
       "    }\n",
       "\n",
       "    .dataframe tbody tr th {\n",
       "        vertical-align: top;\n",
       "    }\n",
       "\n",
       "    .dataframe thead th {\n",
       "        text-align: right;\n",
       "    }\n",
       "</style>\n",
       "<table border=\"1\" class=\"dataframe\">\n",
       "  <thead>\n",
       "    <tr style=\"text-align: right;\">\n",
       "      <th></th>\n",
       "      <th>Loan Number</th>\n",
       "      <th>Campaign ID</th>\n",
       "      <th>Communication Operator Message ID</th>\n",
       "      <th>Call time</th>\n",
       "      <th>Status</th>\n",
       "      <th>Date</th>\n",
       "    </tr>\n",
       "  </thead>\n",
       "  <tbody>\n",
       "    <tr>\n",
       "      <th>0</th>\n",
       "      <td>16748071234</td>\n",
       "      <td>161584404</td>\n",
       "      <td>21a1f7b1ce4d23d558e300626d5016c2</td>\n",
       "      <td>2022-12-02T02:59:40.973Z</td>\n",
       "      <td>completed</td>\n",
       "      <td>02-12-2022</td>\n",
       "    </tr>\n",
       "    <tr>\n",
       "      <th>1</th>\n",
       "      <td>16734601234</td>\n",
       "      <td>161584404</td>\n",
       "      <td>edecb5cd796826ef8bcde2f4814f16c2</td>\n",
       "      <td>2022-12-02T03:57:51.335Z</td>\n",
       "      <td>completed</td>\n",
       "      <td>02-12-2022</td>\n",
       "    </tr>\n",
       "    <tr>\n",
       "      <th>2</th>\n",
       "      <td>1631580</td>\n",
       "      <td>161307935</td>\n",
       "      <td>6a79ed24fa727ae9341f53a9df8816c2</td>\n",
       "      <td>2022-12-02T04:34:26.950Z</td>\n",
       "      <td>completed</td>\n",
       "      <td>02-12-2022</td>\n",
       "    </tr>\n",
       "    <tr>\n",
       "      <th>3</th>\n",
       "      <td>1631580</td>\n",
       "      <td>161307935</td>\n",
       "      <td>ce45ac657c26d5d10e6d1eb4aacc16c2</td>\n",
       "      <td>2022-12-02T04:34:57.213Z</td>\n",
       "      <td>completed</td>\n",
       "      <td>02-12-2022</td>\n",
       "    </tr>\n",
       "    <tr>\n",
       "      <th>4</th>\n",
       "      <td>1631580</td>\n",
       "      <td>161307935</td>\n",
       "      <td>6c864d7097f2df3eed4900ea892816c2</td>\n",
       "      <td>2022-12-02T04:36:21.594Z</td>\n",
       "      <td>completed</td>\n",
       "      <td>02-12-2022</td>\n",
       "    </tr>\n",
       "    <tr>\n",
       "      <th>...</th>\n",
       "      <td>...</td>\n",
       "      <td>...</td>\n",
       "      <td>...</td>\n",
       "      <td>...</td>\n",
       "      <td>...</td>\n",
       "      <td>...</td>\n",
       "    </tr>\n",
       "    <tr>\n",
       "      <th>70602</th>\n",
       "      <td>1505359</td>\n",
       "      <td>173536581</td>\n",
       "      <td>e00ab7123a2ec89f4ef8c752973016c7</td>\n",
       "      <td>2022-12-07T17:57:44.814Z</td>\n",
       "      <td>completed</td>\n",
       "      <td>07-12-2022</td>\n",
       "    </tr>\n",
       "    <tr>\n",
       "      <th>70603</th>\n",
       "      <td>1657882</td>\n",
       "      <td>173536581</td>\n",
       "      <td>4ad88b1f7ec7346435db29b5529916c7</td>\n",
       "      <td>2022-12-07T18:38:06.691Z</td>\n",
       "      <td>completed</td>\n",
       "      <td>07-12-2022</td>\n",
       "    </tr>\n",
       "    <tr>\n",
       "      <th>70604</th>\n",
       "      <td>1517330</td>\n",
       "      <td>173536581</td>\n",
       "      <td>41aab721f9e38552d5b688d8142816c8</td>\n",
       "      <td>2022-12-07T20:03:30.600Z</td>\n",
       "      <td>completed</td>\n",
       "      <td>07-12-2022</td>\n",
       "    </tr>\n",
       "    <tr>\n",
       "      <th>70605</th>\n",
       "      <td>1769119</td>\n",
       "      <td>172948100</td>\n",
       "      <td>c455574ddfbf0fcdec9399bf5b6b16c8</td>\n",
       "      <td>2022-12-07T20:05:00.526Z</td>\n",
       "      <td>completed</td>\n",
       "      <td>07-12-2022</td>\n",
       "    </tr>\n",
       "    <tr>\n",
       "      <th>70606</th>\n",
       "      <td>1748023</td>\n",
       "      <td>172948100</td>\n",
       "      <td>b5b869e4da188e2ffdbbb21bd7c416c8</td>\n",
       "      <td>2022-12-07T23:25:16.448Z</td>\n",
       "      <td>completed</td>\n",
       "      <td>07-12-2022</td>\n",
       "    </tr>\n",
       "  </tbody>\n",
       "</table>\n",
       "<p>70589 rows × 6 columns</p>\n",
       "</div>"
      ],
      "text/plain": [
       "       Loan Number  Campaign ID Communication Operator Message ID  \\\n",
       "0      16748071234    161584404  21a1f7b1ce4d23d558e300626d5016c2   \n",
       "1      16734601234    161584404  edecb5cd796826ef8bcde2f4814f16c2   \n",
       "2          1631580    161307935  6a79ed24fa727ae9341f53a9df8816c2   \n",
       "3          1631580    161307935  ce45ac657c26d5d10e6d1eb4aacc16c2   \n",
       "4          1631580    161307935  6c864d7097f2df3eed4900ea892816c2   \n",
       "...            ...          ...                               ...   \n",
       "70602      1505359    173536581  e00ab7123a2ec89f4ef8c752973016c7   \n",
       "70603      1657882    173536581  4ad88b1f7ec7346435db29b5529916c7   \n",
       "70604      1517330    173536581  41aab721f9e38552d5b688d8142816c8   \n",
       "70605      1769119    172948100  c455574ddfbf0fcdec9399bf5b6b16c8   \n",
       "70606      1748023    172948100  b5b869e4da188e2ffdbbb21bd7c416c8   \n",
       "\n",
       "                      Call time     Status        Date  \n",
       "0      2022-12-02T02:59:40.973Z  completed  02-12-2022  \n",
       "1      2022-12-02T03:57:51.335Z  completed  02-12-2022  \n",
       "2      2022-12-02T04:34:26.950Z  completed  02-12-2022  \n",
       "3      2022-12-02T04:34:57.213Z  completed  02-12-2022  \n",
       "4      2022-12-02T04:36:21.594Z  completed  02-12-2022  \n",
       "...                         ...        ...         ...  \n",
       "70602  2022-12-07T17:57:44.814Z  completed  07-12-2022  \n",
       "70603  2022-12-07T18:38:06.691Z  completed  07-12-2022  \n",
       "70604  2022-12-07T20:03:30.600Z  completed  07-12-2022  \n",
       "70605  2022-12-07T20:05:00.526Z  completed  07-12-2022  \n",
       "70606  2022-12-07T23:25:16.448Z  completed  07-12-2022  \n",
       "\n",
       "[70589 rows x 6 columns]"
      ]
     },
     "execution_count": 158,
     "metadata": {},
     "output_type": "execute_result"
    }
   ],
   "source": [
    "# Filter the communication data to only include completed calls\n",
    "completed_calls = communication_data[communication_data['Status'] == 'completed']\n",
    "completed_calls"
   ]
  },
  {
   "cell_type": "code",
   "execution_count": 160,
   "id": "d195d9ee",
   "metadata": {},
   "outputs": [
    {
     "data": {
      "text/html": [
       "<div>\n",
       "<style scoped>\n",
       "    .dataframe tbody tr th:only-of-type {\n",
       "        vertical-align: middle;\n",
       "    }\n",
       "\n",
       "    .dataframe tbody tr th {\n",
       "        vertical-align: top;\n",
       "    }\n",
       "\n",
       "    .dataframe thead th {\n",
       "        text-align: right;\n",
       "    }\n",
       "</style>\n",
       "<table border=\"1\" class=\"dataframe\">\n",
       "  <thead>\n",
       "    <tr style=\"text-align: right;\">\n",
       "      <th></th>\n",
       "      <th></th>\n",
       "      <th>Campaign ID</th>\n",
       "    </tr>\n",
       "    <tr>\n",
       "      <th>Date</th>\n",
       "      <th>Loan Number</th>\n",
       "      <th></th>\n",
       "    </tr>\n",
       "  </thead>\n",
       "  <tbody>\n",
       "    <tr>\n",
       "      <th rowspan=\"5\" valign=\"top\">02-12-2022</th>\n",
       "      <th>872777</th>\n",
       "      <td>1.644152e+08</td>\n",
       "    </tr>\n",
       "    <tr>\n",
       "      <th>894254</th>\n",
       "      <td>1.644152e+08</td>\n",
       "    </tr>\n",
       "    <tr>\n",
       "      <th>896383</th>\n",
       "      <td>1.644152e+08</td>\n",
       "    </tr>\n",
       "    <tr>\n",
       "      <th>901000</th>\n",
       "      <td>1.644152e+08</td>\n",
       "    </tr>\n",
       "    <tr>\n",
       "      <th>901214</th>\n",
       "      <td>1.641686e+08</td>\n",
       "    </tr>\n",
       "    <tr>\n",
       "      <th>...</th>\n",
       "      <th>...</th>\n",
       "      <td>...</td>\n",
       "    </tr>\n",
       "    <tr>\n",
       "      <th rowspan=\"5\" valign=\"top\">07-12-2022</th>\n",
       "      <th>1823885</th>\n",
       "      <td>1.729961e+08</td>\n",
       "    </tr>\n",
       "    <tr>\n",
       "      <th>1823903</th>\n",
       "      <td>1.732423e+08</td>\n",
       "    </tr>\n",
       "    <tr>\n",
       "      <th>1823931</th>\n",
       "      <td>1.735366e+08</td>\n",
       "    </tr>\n",
       "    <tr>\n",
       "      <th>1823966</th>\n",
       "      <td>1.735366e+08</td>\n",
       "    </tr>\n",
       "    <tr>\n",
       "      <th>1836875</th>\n",
       "      <td>1.729481e+08</td>\n",
       "    </tr>\n",
       "  </tbody>\n",
       "</table>\n",
       "<p>37087 rows × 1 columns</p>\n",
       "</div>"
      ],
      "text/plain": [
       "                         Campaign ID\n",
       "Date       Loan Number              \n",
       "02-12-2022 872777       1.644152e+08\n",
       "           894254       1.644152e+08\n",
       "           896383       1.644152e+08\n",
       "           901000       1.644152e+08\n",
       "           901214       1.641686e+08\n",
       "...                              ...\n",
       "07-12-2022 1823885      1.729961e+08\n",
       "           1823903      1.732423e+08\n",
       "           1823931      1.735366e+08\n",
       "           1823966      1.735366e+08\n",
       "           1836875      1.729481e+08\n",
       "\n",
       "[37087 rows x 1 columns]"
      ]
     },
     "execution_count": 160,
     "metadata": {},
     "output_type": "execute_result"
    }
   ],
   "source": [
    "grouped_calls = completed_calls.groupby(['Date', 'Loan Number'])\n",
    "grouped_calls.mean()"
   ]
  },
  {
   "cell_type": "code",
   "execution_count": 162,
   "id": "bdb56afa",
   "metadata": {},
   "outputs": [
    {
     "data": {
      "text/plain": [
       "Date\n",
       "02-12-2022    7845\n",
       "03-12-2022    6929\n",
       "04-12-2022    6103\n",
       "05-12-2022    6284\n",
       "06-12-2022    5665\n",
       "07-12-2022    4261\n",
       "Name: Loan Number, dtype: int64"
      ]
     },
     "execution_count": 162,
     "metadata": {},
     "output_type": "execute_result"
    }
   ],
   "source": [
    "unique_customers_per_day = grouped_calls['Loan Number'].nunique()\n",
    "unique_customers_per_day = unique_customers_per_day.groupby('Date').sum()\n",
    "unique_customers_per_day"
   ]
  },
  {
   "cell_type": "code",
   "execution_count": 163,
   "id": "70a0a3a8",
   "metadata": {},
   "outputs": [
    {
     "data": {
      "text/plain": [
       "<AxesSubplot:title={'center':'unique number of customers contacted every day'}, xlabel='Date'>"
      ]
     },
     "execution_count": 163,
     "metadata": {},
     "output_type": "execute_result"
    },
    {
     "data": {
      "image/png": "[encoded data removed]",
      "text/plain": [
       "<Figure size 432x288 with 1 Axes>"
      ]
     },
     "metadata": {
      "needs_background": "light"
     },
     "output_type": "display_data"
    }
   ],
   "source": [
    "unique_customers_per_day.plot(kind='line', title='unique number of customers contacted every day')"
   ]
  },
  {
   "cell_type": "markdown",
   "id": "503f835c",
   "metadata": {},
   "source": [
    "6.Number of customers not contacted on every day. How many borrowers are not contacted on day 1, day 2 etc."
   ]
  },
  {
   "cell_type": "code",
   "execution_count": 164,
   "id": "1c2bfa9c",
   "metadata": {
    "scrolled": true
   },
   "outputs": [
    {
     "data": {
      "text/plain": [
       "15962"
      ]
     },
     "execution_count": 164,
     "metadata": {},
     "output_type": "execute_result"
    }
   ],
   "source": [
    "total_customers = portfolio_data.shape[0]\n",
    "total_customers"
   ]
  },
  {
   "cell_type": "code",
   "execution_count": 166,
   "id": "063fce14",
   "metadata": {},
   "outputs": [
    {
     "data": {
      "text/html": [
       "<div>\n",
       "<style scoped>\n",
       "    .dataframe tbody tr th:only-of-type {\n",
       "        vertical-align: middle;\n",
       "    }\n",
       "\n",
       "    .dataframe tbody tr th {\n",
       "        vertical-align: top;\n",
       "    }\n",
       "\n",
       "    .dataframe thead th {\n",
       "        text-align: right;\n",
       "    }\n",
       "</style>\n",
       "<table border=\"1\" class=\"dataframe\">\n",
       "  <thead>\n",
       "    <tr style=\"text-align: right;\">\n",
       "      <th></th>\n",
       "      <th>Date</th>\n",
       "      <th>not_contacted_count</th>\n",
       "    </tr>\n",
       "  </thead>\n",
       "  <tbody>\n",
       "    <tr>\n",
       "      <th>0</th>\n",
       "      <td>02-12-2022</td>\n",
       "      <td>8117</td>\n",
       "    </tr>\n",
       "    <tr>\n",
       "      <th>1</th>\n",
       "      <td>03-12-2022</td>\n",
       "      <td>9033</td>\n",
       "    </tr>\n",
       "    <tr>\n",
       "      <th>2</th>\n",
       "      <td>04-12-2022</td>\n",
       "      <td>9859</td>\n",
       "    </tr>\n",
       "    <tr>\n",
       "      <th>3</th>\n",
       "      <td>05-12-2022</td>\n",
       "      <td>9678</td>\n",
       "    </tr>\n",
       "    <tr>\n",
       "      <th>4</th>\n",
       "      <td>06-12-2022</td>\n",
       "      <td>10297</td>\n",
       "    </tr>\n",
       "    <tr>\n",
       "      <th>5</th>\n",
       "      <td>07-12-2022</td>\n",
       "      <td>11701</td>\n",
       "    </tr>\n",
       "  </tbody>\n",
       "</table>\n",
       "</div>"
      ],
      "text/plain": [
       "         Date  not_contacted_count\n",
       "0  02-12-2022                 8117\n",
       "1  03-12-2022                 9033\n",
       "2  04-12-2022                 9859\n",
       "3  05-12-2022                 9678\n",
       "4  06-12-2022                10297\n",
       "5  07-12-2022                11701"
      ]
     },
     "execution_count": 166,
     "metadata": {},
     "output_type": "execute_result"
    }
   ],
   "source": [
    "not_contacted = completed_calls.groupby('Date')['Loan Number'].nunique().apply(lambda x: total_customers - x).reset_index(name='not_contacted_count')\n",
    "not_contacted"
   ]
  },
  {
   "cell_type": "markdown",
   "id": "c9f8ef1f",
   "metadata": {},
   "source": [
    "7.Who are the customers who have been contacted the most\n"
   ]
  },
  {
   "cell_type": "code",
   "execution_count": 167,
   "id": "d8b743f3",
   "metadata": {},
   "outputs": [
    {
     "data": {
      "text/html": [
       "<div>\n",
       "<style scoped>\n",
       "    .dataframe tbody tr th:only-of-type {\n",
       "        vertical-align: middle;\n",
       "    }\n",
       "\n",
       "    .dataframe tbody tr th {\n",
       "        vertical-align: top;\n",
       "    }\n",
       "\n",
       "    .dataframe thead th {\n",
       "        text-align: right;\n",
       "    }\n",
       "</style>\n",
       "<table border=\"1\" class=\"dataframe\">\n",
       "  <thead>\n",
       "    <tr style=\"text-align: right;\">\n",
       "      <th></th>\n",
       "      <th>Loan Number</th>\n",
       "      <th>total_calls</th>\n",
       "    </tr>\n",
       "  </thead>\n",
       "  <tbody>\n",
       "    <tr>\n",
       "      <th>3392</th>\n",
       "      <td>1659081</td>\n",
       "      <td>38</td>\n",
       "    </tr>\n",
       "    <tr>\n",
       "      <th>1749</th>\n",
       "      <td>1580447</td>\n",
       "      <td>30</td>\n",
       "    </tr>\n",
       "    <tr>\n",
       "      <th>1147</th>\n",
       "      <td>1542440</td>\n",
       "      <td>28</td>\n",
       "    </tr>\n",
       "    <tr>\n",
       "      <th>1429</th>\n",
       "      <td>1564892</td>\n",
       "      <td>28</td>\n",
       "    </tr>\n",
       "    <tr>\n",
       "      <th>7436</th>\n",
       "      <td>1759399</td>\n",
       "      <td>27</td>\n",
       "    </tr>\n",
       "  </tbody>\n",
       "</table>\n",
       "</div>"
      ],
      "text/plain": [
       "      Loan Number  total_calls\n",
       "3392      1659081           38\n",
       "1749      1580447           30\n",
       "1147      1542440           28\n",
       "1429      1564892           28\n",
       "7436      1759399           27"
      ]
     },
     "execution_count": 167,
     "metadata": {},
     "output_type": "execute_result"
    }
   ],
   "source": [
    "# Group the communication history by customer ID and count the total number of calls\n",
    "call_counts = communication_data.groupby('Loan Number')['Status'].count().reset_index(name='total_calls')\n",
    "\n",
    "# Sort the customers by the number of calls\n",
    "most_contacted = call_counts.sort_values('total_calls', ascending=False)\n",
    "most_contacted.head()\n"
   ]
  },
  {
   "cell_type": "markdown",
   "id": "4bf9f3a4",
   "metadata": {},
   "source": [
    "8.Who are the customers who have been contacted the least"
   ]
  },
  {
   "cell_type": "code",
   "execution_count": 168,
   "id": "ed800f49",
   "metadata": {},
   "outputs": [
    {
     "data": {
      "text/html": [
       "<div>\n",
       "<style scoped>\n",
       "    .dataframe tbody tr th:only-of-type {\n",
       "        vertical-align: middle;\n",
       "    }\n",
       "\n",
       "    .dataframe tbody tr th {\n",
       "        vertical-align: top;\n",
       "    }\n",
       "\n",
       "    .dataframe thead th {\n",
       "        text-align: right;\n",
       "    }\n",
       "</style>\n",
       "<table border=\"1\" class=\"dataframe\">\n",
       "  <thead>\n",
       "    <tr style=\"text-align: right;\">\n",
       "      <th></th>\n",
       "      <th>Loan Number</th>\n",
       "      <th>total_calls</th>\n",
       "    </tr>\n",
       "  </thead>\n",
       "  <tbody>\n",
       "    <tr>\n",
       "      <th>11219</th>\n",
       "      <td>16748071234</td>\n",
       "      <td>1</td>\n",
       "    </tr>\n",
       "    <tr>\n",
       "      <th>6627</th>\n",
       "      <td>1740829</td>\n",
       "      <td>1</td>\n",
       "    </tr>\n",
       "    <tr>\n",
       "      <th>9126</th>\n",
       "      <td>1793349</td>\n",
       "      <td>1</td>\n",
       "    </tr>\n",
       "    <tr>\n",
       "      <th>9127</th>\n",
       "      <td>1793356</td>\n",
       "      <td>1</td>\n",
       "    </tr>\n",
       "    <tr>\n",
       "      <th>9129</th>\n",
       "      <td>1793419</td>\n",
       "      <td>1</td>\n",
       "    </tr>\n",
       "  </tbody>\n",
       "</table>\n",
       "</div>"
      ],
      "text/plain": [
       "       Loan Number  total_calls\n",
       "11219  16748071234            1\n",
       "6627       1740829            1\n",
       "9126       1793349            1\n",
       "9127       1793356            1\n",
       "9129       1793419            1"
      ]
     },
     "execution_count": 168,
     "metadata": {},
     "output_type": "execute_result"
    }
   ],
   "source": [
    "least_contacted = call_counts.sort_values('total_calls', ascending=True)\n",
    "least_contacted.head()"
   ]
  },
  {
   "cell_type": "markdown",
   "id": "0880fee6",
   "metadata": {},
   "source": [
    "9.How many customers have never been reached out?"
   ]
  },
  {
   "cell_type": "code",
   "execution_count": 171,
   "id": "a78fba55",
   "metadata": {},
   "outputs": [
    {
     "data": {
      "text/html": [
       "<div>\n",
       "<style scoped>\n",
       "    .dataframe tbody tr th:only-of-type {\n",
       "        vertical-align: middle;\n",
       "    }\n",
       "\n",
       "    .dataframe tbody tr th {\n",
       "        vertical-align: top;\n",
       "    }\n",
       "\n",
       "    .dataframe thead th {\n",
       "        text-align: right;\n",
       "    }\n",
       "</style>\n",
       "<table border=\"1\" class=\"dataframe\">\n",
       "  <thead>\n",
       "    <tr style=\"text-align: right;\">\n",
       "      <th></th>\n",
       "      <th>Loan Number</th>\n",
       "      <th>Due Date</th>\n",
       "      <th>State</th>\n",
       "      <th>DOB</th>\n",
       "      <th>Loan Amount</th>\n",
       "      <th>Age</th>\n",
       "      <th>Campaign ID</th>\n",
       "      <th>Communication Operator Message ID</th>\n",
       "      <th>Call time</th>\n",
       "      <th>Status</th>\n",
       "      <th>Date</th>\n",
       "    </tr>\n",
       "  </thead>\n",
       "  <tbody>\n",
       "    <tr>\n",
       "      <th>0</th>\n",
       "      <td>1003431</td>\n",
       "      <td>31-10-2022</td>\n",
       "      <td>KARNATAKA</td>\n",
       "      <td>1987.0</td>\n",
       "      <td>240000.0</td>\n",
       "      <td>36</td>\n",
       "      <td>166790104.0</td>\n",
       "      <td>dc1c8ea862eaeba0c7b805b54b7c16c3</td>\n",
       "      <td>2022-12-03T13:16:04.150Z</td>\n",
       "      <td>completed</td>\n",
       "      <td>03-12-2022</td>\n",
       "    </tr>\n",
       "    <tr>\n",
       "      <th>1</th>\n",
       "      <td>1003431</td>\n",
       "      <td>31-10-2022</td>\n",
       "      <td>KARNATAKA</td>\n",
       "      <td>1987.0</td>\n",
       "      <td>240000.0</td>\n",
       "      <td>36</td>\n",
       "      <td>167104482.0</td>\n",
       "      <td>ffbd6015d04ebad7bba69b01d20316c4</td>\n",
       "      <td>2022-12-04T05:50:06.501Z</td>\n",
       "      <td>completed</td>\n",
       "      <td>04-12-2022</td>\n",
       "    </tr>\n",
       "    <tr>\n",
       "      <th>2</th>\n",
       "      <td>1003431</td>\n",
       "      <td>31-10-2022</td>\n",
       "      <td>KARNATAKA</td>\n",
       "      <td>1987.0</td>\n",
       "      <td>240000.0</td>\n",
       "      <td>36</td>\n",
       "      <td>167820924.0</td>\n",
       "      <td>5f09e4392238cfa97478ff9f7a5616c4</td>\n",
       "      <td>2022-12-04T08:54:15.613Z</td>\n",
       "      <td>completed</td>\n",
       "      <td>04-12-2022</td>\n",
       "    </tr>\n",
       "    <tr>\n",
       "      <th>3</th>\n",
       "      <td>1003431</td>\n",
       "      <td>31-10-2022</td>\n",
       "      <td>KARNATAKA</td>\n",
       "      <td>1987.0</td>\n",
       "      <td>240000.0</td>\n",
       "      <td>36</td>\n",
       "      <td>168389540.0</td>\n",
       "      <td>6bb2f3df55050c400ff7fe3b446316c4</td>\n",
       "      <td>2022-12-04T13:04:32.924Z</td>\n",
       "      <td>completed</td>\n",
       "      <td>04-12-2022</td>\n",
       "    </tr>\n",
       "    <tr>\n",
       "      <th>4</th>\n",
       "      <td>1003431</td>\n",
       "      <td>31-10-2022</td>\n",
       "      <td>KARNATAKA</td>\n",
       "      <td>1987.0</td>\n",
       "      <td>240000.0</td>\n",
       "      <td>36</td>\n",
       "      <td>168801291.0</td>\n",
       "      <td>1ab943780657353aa727ac909fbf16c5</td>\n",
       "      <td>2022-12-05T04:48:55.139Z</td>\n",
       "      <td>completed</td>\n",
       "      <td>05-12-2022</td>\n",
       "    </tr>\n",
       "    <tr>\n",
       "      <th>...</th>\n",
       "      <td>...</td>\n",
       "      <td>...</td>\n",
       "      <td>...</td>\n",
       "      <td>...</td>\n",
       "      <td>...</td>\n",
       "      <td>...</td>\n",
       "      <td>...</td>\n",
       "      <td>...</td>\n",
       "      <td>...</td>\n",
       "      <td>...</td>\n",
       "      <td>...</td>\n",
       "    </tr>\n",
       "    <tr>\n",
       "      <th>75338</th>\n",
       "      <td>946445</td>\n",
       "      <td>27-11-2022</td>\n",
       "      <td>UTTAR PRADESH</td>\n",
       "      <td>1989.0</td>\n",
       "      <td>75000.0</td>\n",
       "      <td>33</td>\n",
       "      <td>166203285.0</td>\n",
       "      <td>cdebf6ea3bb780c9e2acccbbb93716c3</td>\n",
       "      <td>2022-12-03T10:36:10.175Z</td>\n",
       "      <td>completed</td>\n",
       "      <td>03-12-2022</td>\n",
       "    </tr>\n",
       "    <tr>\n",
       "      <th>75339</th>\n",
       "      <td>946445</td>\n",
       "      <td>27-11-2022</td>\n",
       "      <td>UTTAR PRADESH</td>\n",
       "      <td>1989.0</td>\n",
       "      <td>75000.0</td>\n",
       "      <td>33</td>\n",
       "      <td>166790108.0</td>\n",
       "      <td>a278aaddfb1ce676004a3a5a3b9e16c3</td>\n",
       "      <td>2022-12-03T13:46:45.964Z</td>\n",
       "      <td>completed</td>\n",
       "      <td>03-12-2022</td>\n",
       "    </tr>\n",
       "    <tr>\n",
       "      <th>75340</th>\n",
       "      <td>946445</td>\n",
       "      <td>27-11-2022</td>\n",
       "      <td>UTTAR PRADESH</td>\n",
       "      <td>1989.0</td>\n",
       "      <td>75000.0</td>\n",
       "      <td>33</td>\n",
       "      <td>167104488.0</td>\n",
       "      <td>b267f2738015ac7faf84a95e641916c4</td>\n",
       "      <td>2022-12-04T05:08:10.325Z</td>\n",
       "      <td>completed</td>\n",
       "      <td>04-12-2022</td>\n",
       "    </tr>\n",
       "    <tr>\n",
       "      <th>75341</th>\n",
       "      <td>946445</td>\n",
       "      <td>27-11-2022</td>\n",
       "      <td>UTTAR PRADESH</td>\n",
       "      <td>1989.0</td>\n",
       "      <td>75000.0</td>\n",
       "      <td>33</td>\n",
       "      <td>167820915.0</td>\n",
       "      <td>9f3b001ab44ff7882a6cb2eecd3116c4</td>\n",
       "      <td>2022-12-04T09:18:26.231Z</td>\n",
       "      <td>completed</td>\n",
       "      <td>04-12-2022</td>\n",
       "    </tr>\n",
       "    <tr>\n",
       "      <th>75342</th>\n",
       "      <td>946445</td>\n",
       "      <td>27-11-2022</td>\n",
       "      <td>UTTAR PRADESH</td>\n",
       "      <td>1989.0</td>\n",
       "      <td>75000.0</td>\n",
       "      <td>33</td>\n",
       "      <td>168801293.0</td>\n",
       "      <td>97c582ef64f5b9fc59a7e626a45716c5</td>\n",
       "      <td>2022-12-05T05:42:06.075Z</td>\n",
       "      <td>completed</td>\n",
       "      <td>05-12-2022</td>\n",
       "    </tr>\n",
       "  </tbody>\n",
       "</table>\n",
       "<p>75343 rows × 11 columns</p>\n",
       "</div>"
      ],
      "text/plain": [
       "       Loan Number    Due Date          State     DOB  Loan Amount  Age  \\\n",
       "0          1003431  31-10-2022      KARNATAKA  1987.0     240000.0   36   \n",
       "1          1003431  31-10-2022      KARNATAKA  1987.0     240000.0   36   \n",
       "2          1003431  31-10-2022      KARNATAKA  1987.0     240000.0   36   \n",
       "3          1003431  31-10-2022      KARNATAKA  1987.0     240000.0   36   \n",
       "4          1003431  31-10-2022      KARNATAKA  1987.0     240000.0   36   \n",
       "...            ...         ...            ...     ...          ...  ...   \n",
       "75338       946445  27-11-2022  UTTAR PRADESH  1989.0      75000.0   33   \n",
       "75339       946445  27-11-2022  UTTAR PRADESH  1989.0      75000.0   33   \n",
       "75340       946445  27-11-2022  UTTAR PRADESH  1989.0      75000.0   33   \n",
       "75341       946445  27-11-2022  UTTAR PRADESH  1989.0      75000.0   33   \n",
       "75342       946445  27-11-2022  UTTAR PRADESH  1989.0      75000.0   33   \n",
       "\n",
       "       Campaign ID Communication Operator Message ID  \\\n",
       "0      166790104.0  dc1c8ea862eaeba0c7b805b54b7c16c3   \n",
       "1      167104482.0  ffbd6015d04ebad7bba69b01d20316c4   \n",
       "2      167820924.0  5f09e4392238cfa97478ff9f7a5616c4   \n",
       "3      168389540.0  6bb2f3df55050c400ff7fe3b446316c4   \n",
       "4      168801291.0  1ab943780657353aa727ac909fbf16c5   \n",
       "...            ...                               ...   \n",
       "75338  166203285.0  cdebf6ea3bb780c9e2acccbbb93716c3   \n",
       "75339  166790108.0  a278aaddfb1ce676004a3a5a3b9e16c3   \n",
       "75340  167104488.0  b267f2738015ac7faf84a95e641916c4   \n",
       "75341  167820915.0  9f3b001ab44ff7882a6cb2eecd3116c4   \n",
       "75342  168801293.0  97c582ef64f5b9fc59a7e626a45716c5   \n",
       "\n",
       "                      Call time     Status        Date  \n",
       "0      2022-12-03T13:16:04.150Z  completed  03-12-2022  \n",
       "1      2022-12-04T05:50:06.501Z  completed  04-12-2022  \n",
       "2      2022-12-04T08:54:15.613Z  completed  04-12-2022  \n",
       "3      2022-12-04T13:04:32.924Z  completed  04-12-2022  \n",
       "4      2022-12-05T04:48:55.139Z  completed  05-12-2022  \n",
       "...                         ...        ...         ...  \n",
       "75338  2022-12-03T10:36:10.175Z  completed  03-12-2022  \n",
       "75339  2022-12-03T13:46:45.964Z  completed  03-12-2022  \n",
       "75340  2022-12-04T05:08:10.325Z  completed  04-12-2022  \n",
       "75341  2022-12-04T09:18:26.231Z  completed  04-12-2022  \n",
       "75342  2022-12-05T05:42:06.075Z  completed  05-12-2022  \n",
       "\n",
       "[75343 rows x 11 columns]"
      ]
     },
     "execution_count": 171,
     "metadata": {},
     "output_type": "execute_result"
    }
   ],
   "source": [
    "# Merge the two files based on the loan number\n",
    "merged_data = pd.merge(portfolio_data, communication_data, on = 'Loan Number', how='left')\n",
    "merged_data"
   ]
  },
  {
   "cell_type": "code",
   "execution_count": 173,
   "id": "ccbd6d3b",
   "metadata": {},
   "outputs": [
    {
     "name": "stdout",
     "output_type": "stream",
     "text": [
      "Number of customers who have never been reached out: 4752\n"
     ]
    }
   ],
   "source": [
    "# number of rows where the call status is null or NaN\n",
    "num_unreached_customers = merged_data[merged_data['Status'].isnull()]['Loan Number'].nunique()\n",
    "print('Number of customers who have never been reached out:', num_unreached_customers)"
   ]
  },
  {
   "cell_type": "markdown",
   "id": "a2167410",
   "metadata": {},
   "source": [
    "10.Distribution of calls by states."
   ]
  },
  {
   "cell_type": "code",
   "execution_count": 177,
   "id": "5872111e",
   "metadata": {},
   "outputs": [
    {
     "data": {
      "text/plain": [
       "State\n",
       "MAHARASHTRA                  11056\n",
       "KARNATAKA                     9408\n",
       "TAMIL NADU                    7599\n",
       "TELANGANA                     6391\n",
       "ANDHRA PRADESH                5775\n",
       "UTTAR PRADESH                 5663\n",
       "GUJARAT                       4562\n",
       "RAJASTHAN                     3510\n",
       "DELHI                         3013\n",
       "MADHYA PRADESH                2959\n",
       "WEST BENGAL                   2507\n",
       "HARYANA                       2276\n",
       "BIHAR                         2091\n",
       "ODISHA                        1938\n",
       "KERALA                        1655\n",
       "PUNJAB                        1194\n",
       "ASSAM                          816\n",
       "CHATTISGARH                    690\n",
       "JHARKHAND                      676\n",
       "UTTARAKHAND                    369\n",
       "HIMACHAL PRADESH               238\n",
       "JAMMU & KASHMIR                209\n",
       "Pondicherry                    178\n",
       "Chandigarh                     122\n",
       "TRIPURA                         99\n",
       "Goa                             67\n",
       "Manipur                         56\n",
       "Meghalaya                       43\n",
       "DAMAN & DIU                     34\n",
       "Nagaland                        34\n",
       "Sikkim                          33\n",
       "Maharashtra                     25\n",
       "Arunachal Pradesh               16\n",
       "Haryana                         15\n",
       "Chattisgarh                      8\n",
       "DADRA & NAGAR HAVELI             6\n",
       "ANDAMAN & NICOBAR ISLANDS        5\n",
       "Mizoram                          4\n",
       "Madhya Pradesh                   2\n",
       "PONDICHERRY                      1\n",
       "Name: Loan Number, dtype: int64"
      ]
     },
     "execution_count": 177,
     "metadata": {},
     "output_type": "execute_result"
    }
   ],
   "source": [
    "# Group the calls by state and count the number of calls in each group\n",
    "calls_by_state = merged_data.groupby('State')['Loan Number'].count().sort_values(ascending=False)\n",
    "calls_by_state"
   ]
  },
  {
   "cell_type": "code",
   "execution_count": 179,
   "id": "789b267f",
   "metadata": {},
   "outputs": [
    {
     "data": {
      "text/plain": [
       "<AxesSubplot:title={'center':'Distribution of Calls by State'}, xlabel='State'>"
      ]
     },
     "execution_count": 179,
     "metadata": {},
     "output_type": "execute_result"
    },
    {
     "data": {
      "image/png": "[encoded data removed]",
      "text/plain": [
       "<Figure size 432x288 with 1 Axes>"
      ]
     },
     "metadata": {
      "needs_background": "light"
     },
     "output_type": "display_data"
    }
   ],
   "source": [
    "# Plot a bar chart of the distribution of calls by states\n",
    "calls_by_state.plot(kind='bar', title='Distribution of Calls by State')"
   ]
  },
  {
   "cell_type": "markdown",
   "id": "24e86d40",
   "metadata": {},
   "source": [
    "11.Distribution of calls by campaign ids"
   ]
  },
  {
   "cell_type": "code",
   "execution_count": 182,
   "id": "2d100a31",
   "metadata": {},
   "outputs": [
    {
     "data": {
      "text/plain": [
       "Campaign ID\n",
       "164168595.0    6905\n",
       "164661895.0    6413\n",
       "165448984.0    3736\n",
       "170181308.0    3637\n",
       "168801291.0    3545\n",
       "167104482.0    3416\n",
       "166203288.0    3391\n",
       "166790104.0    3286\n",
       "170740199.0    3279\n",
       "168389540.0    3106\n",
       "171446618.0    3045\n",
       "169508126.0    3014\n",
       "172117487.0    2973\n",
       "172948100.0    2802\n",
       "167820924.0    2692\n",
       "165448976.0    1684\n",
       "173536581.0    1632\n",
       "166203285.0    1507\n",
       "166790108.0    1467\n",
       "172503470.0    1183\n",
       "167104488.0    1068\n",
       "168389543.0     945\n",
       "168801293.0     878\n",
       "167820915.0     797\n",
       "170181312.0     694\n",
       "169508122.0     660\n",
       "170740200.0     554\n",
       "171446611.0     501\n",
       "172117491.0     495\n",
       "172503471.0     486\n",
       "173536583.0     466\n",
       "172948097.0     316\n",
       "169508129.0      11\n",
       "167104481.0       5\n",
       "172503474.0       2\n",
       "Name: Loan Number, dtype: int64"
      ]
     },
     "execution_count": 182,
     "metadata": {},
     "output_type": "execute_result"
    }
   ],
   "source": [
    "calls_by_campaign_ids = merged_data.groupby('Campaign ID')['Loan Number'].count().sort_values(ascending=False)\n",
    "calls_by_campaign_ids "
   ]
  },
  {
   "cell_type": "code",
   "execution_count": 183,
   "id": "2f81bc45",
   "metadata": {},
   "outputs": [
    {
     "data": {
      "text/plain": [
       "<AxesSubplot:title={'center':'Distribution of Calls by Campaign IDs'}, xlabel='Campaign ID'>"
      ]
     },
     "execution_count": 183,
     "metadata": {},
     "output_type": "execute_result"
    },
    {
     "data": {
      "image/png": "[encoded data removed]",
      "text/plain": [
       "<Figure size 432x288 with 1 Axes>"
      ]
     },
     "metadata": {
      "needs_background": "light"
     },
     "output_type": "display_data"
    }
   ],
   "source": [
    "# Plot a bar chart of the distribution of calls by states\n",
    "calls_by_campaign_ids.plot(kind='bar', title='Distribution of Calls by Campaign IDs')"
   ]
  },
  {
   "cell_type": "markdown",
   "id": "aea2d377",
   "metadata": {},
   "source": [
    "12.Unique number of customers by campaign ID"
   ]
  },
  {
   "cell_type": "code",
   "execution_count": 186,
   "id": "e587878e",
   "metadata": {
    "scrolled": true
   },
   "outputs": [
    {
     "data": {
      "text/plain": [
       "Campaign ID\n",
       "164168595    6306\n",
       "164661895    5833\n",
       "165448984    3430\n",
       "170181308    3419\n",
       "168801291    3353\n",
       "167104482    3227\n",
       "166203288    3189\n",
       "170740199    3128\n",
       "166790104    3070\n",
       "168389540    2925\n",
       "171446618    2902\n",
       "169508126    2878\n",
       "172117487    2789\n",
       "172948100    2663\n",
       "167820924    2578\n",
       "165448976    1576\n",
       "173536581    1572\n",
       "166203285    1450\n",
       "166790108    1408\n",
       "172503470    1134\n",
       "167104488    1019\n",
       "168389543     877\n",
       "168801293     841\n",
       "167820915     747\n",
       "170181312     654\n",
       "169508122     629\n",
       "170740200     529\n",
       "171446611     472\n",
       "172503471     465\n",
       "172117491     463\n",
       "173536583     433\n",
       "172948097     308\n",
       "161584404       3\n",
       "156594506       2\n",
       "161310463       2\n",
       "161307935       1\n",
       "135474249       1\n",
       "Name: Loan Number, dtype: int64"
      ]
     },
     "execution_count": 186,
     "metadata": {},
     "output_type": "execute_result"
    }
   ],
   "source": [
    "# Group the data by CampaignID and count the number of unique borrowers\n",
    "unique_customers_by_campaign = completed_calls.groupby(\"Campaign ID\")[\"Loan Number\"].nunique().sort_values(ascending=False)\n",
    "unique_customers_by_campaign"
   ]
  },
  {
   "cell_type": "code",
   "execution_count": null,
   "id": "3faa9d93",
   "metadata": {},
   "outputs": [],
   "source": []
  }
 ],
 "metadata": {
  "kernelspec": {
   "display_name": "Python 3",
   "language": "python",
   "name": "python3"
  },
  "language_info": {
   "codemirror_mode": {
    "name": "ipython",
    "version": 3
   },
   "file_extension": ".py",
   "mimetype": "text/x-python",
   "name": "python",
   "nbconvert_exporter": "python",
   "pygments_lexer": "ipython3",
   "version": "3.8.8"
  }
 },
 "nbformat": 4,
 "nbformat_minor": 5
}
